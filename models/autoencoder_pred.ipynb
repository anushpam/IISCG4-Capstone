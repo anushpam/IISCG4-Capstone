{
 "cells": [
  {
   "cell_type": "code",
   "execution_count": 1,
   "id": "c7772e9f-4c1c-4fdf-b524-729b434bb20e",
   "metadata": {
    "collapsed": true,
    "jupyter": {
     "outputs_hidden": true
    },
    "scrolled": true
   },
   "outputs": [
    {
     "name": "stderr",
     "output_type": "stream",
     "text": [
      "/home/hemanth/.local/lib/python3.10/site-packages/tqdm/auto.py:21: TqdmWarning: IProgress not found. Please update jupyter and ipywidgets. See https://ipywidgets.readthedocs.io/en/stable/user_install.html\n",
      "  from .autonotebook import tqdm as notebook_tqdm\n",
      "2024-04-10 20:01:56.173132: E external/local_xla/xla/stream_executor/cuda/cuda_dnn.cc:9261] Unable to register cuDNN factory: Attempting to register factory for plugin cuDNN when one has already been registered\n",
      "2024-04-10 20:01:56.173170: E external/local_xla/xla/stream_executor/cuda/cuda_fft.cc:607] Unable to register cuFFT factory: Attempting to register factory for plugin cuFFT when one has already been registered\n",
      "2024-04-10 20:01:56.174190: E external/local_xla/xla/stream_executor/cuda/cuda_blas.cc:1515] Unable to register cuBLAS factory: Attempting to register factory for plugin cuBLAS when one has already been registered\n",
      "2024-04-10 20:01:56.180648: I tensorflow/core/platform/cpu_feature_guard.cc:182] This TensorFlow binary is optimized to use available CPU instructions in performance-critical operations.\n",
      "To enable the following instructions: AVX2 AVX512F FMA, in other operations, rebuild TensorFlow with the appropriate compiler flags.\n",
      "2024-04-10 20:01:56.933046: W tensorflow/compiler/tf2tensorrt/utils/py_utils.cc:38] TF-TRT Warning: Could not find TensorRT\n",
      "[nltk_data] Downloading package punkt to /home/hemanth/nltk_data...\n",
      "[nltk_data]   Package punkt is already up-to-date!\n",
      "[nltk_data] Downloading package stopwords to\n",
      "[nltk_data]     /home/hemanth/nltk_data...\n",
      "[nltk_data]   Package stopwords is already up-to-date!\n",
      "[nltk_data] Downloading package wordnet to /home/hemanth/nltk_data...\n",
      "[nltk_data]   Package wordnet is already up-to-date!\n"
     ]
    },
    {
     "data": {
      "text/plain": [
       "True"
      ]
     },
     "execution_count": 1,
     "metadata": {},
     "output_type": "execute_result"
    }
   ],
   "source": [
    "from xgboost import XGBClassifier, cv, DMatrix\n",
    "import optuna\n",
    "from sklearn.preprocessing import MinMaxScaler, StandardScaler, LabelEncoder\n",
    "from sklearn.metrics import confusion_matrix, classification_report, f1_score, accuracy_score, precision_score, recall_score\n",
    "from google.cloud import datastore, bigquery, secretmanager\n",
    "from sklearn.model_selection import *\n",
    "import numpy as np\n",
    "import pandas as pd\n",
    "import os, warnings\n",
    "import tensorflow as tf\n",
    "import joblib, json\n",
    "import numpy as np\n",
    "from keras.models import Sequential\n",
    "from keras.layers import LSTM, Dense, TimeDistributed, Dropout, RepeatVector, Input, Reshape, Flatten\n",
    "from sklearn.feature_extraction.text import TfidfVectorizer\n",
    "import xgboost as xgb\n",
    "from tensorflow.keras.models import Model\n",
    "from data_preprocessing import *\n",
    "nltk.download('punkt')  # For tokenization\n",
    "nltk.download('stopwords')  # Download stop words\n",
    "nltk.download('wordnet')  # For lemmatization"
   ]
  },
  {
   "cell_type": "code",
   "execution_count": 2,
   "id": "8903277d-e030-4d09-a2d2-6acc6d89d477",
   "metadata": {},
   "outputs": [],
   "source": [
    "df = pd.read_excel(open('Consolidated.xlsx', 'rb'), sheet_name='Consolidated')\n",
    "df_final_test = df.query('Foldername == \"fold1\"')\n",
    "df = df.query('Foldername != \"fold1\"')\n",
    "df['Review'] = df['Review'].apply(preprocess_text)"
   ]
  },
  {
   "cell_type": "code",
   "execution_count": 3,
   "id": "3cdf370b-0e56-4e85-a87c-622b1e150024",
   "metadata": {},
   "outputs": [],
   "source": [
    "vectorizer = TfidfVectorizer(max_features=1024)\n",
    "le = LabelEncoder()\n",
    "le.fit(df['Target'])\n",
    "vectorizer.fit(df['Review'])"
   ]
  },
  {
   "cell_type": "code",
   "execution_count": 6,
   "id": "2e8ab2a6-60a7-40b9-bc69-b00f290d78e8",
   "metadata": {},
   "outputs": [],
   "source": [
    "tfidf_vectors = vectorizer.transform(df['Review']).toarray()"
   ]
  },
  {
   "cell_type": "code",
   "execution_count": 7,
   "id": "d67f6bf0-3007-4824-b56e-119387e4a56e",
   "metadata": {},
   "outputs": [],
   "source": [
    "@tf.keras.saving.register_keras_serializable()\n",
    "class Autoencoder(Model):\n",
    "  def __init__(self, latent_dim, shape):\n",
    "    super(Autoencoder, self).__init__()\n",
    "    self.latent_dim = latent_dim\n",
    "    self.shape = shape\n",
    "    self.encoder = tf.keras.Sequential([\n",
    "      Dense(1024, input_dim=shape[1], activation='relu'),\n",
    "      Dense(latent_dim, activation='relu'),\n",
    "    ])\n",
    "    self.decoder = tf.keras.Sequential([\n",
    "      Dense(128, input_dim=latent_dim, activation='relu'),\n",
    "      Dense(shape[1], activation='relu'),\n",
    "    ])\n",
    "\n",
    "  def call(self, x):\n",
    "    encoded = self.encoder(x)\n",
    "    decoded = self.decoder(encoded)\n",
    "    return decoded"
   ]
  },
  {
   "cell_type": "code",
   "execution_count": 8,
   "id": "babd5573-e8d1-457a-bf04-87fa2a86328e",
   "metadata": {},
   "outputs": [
    {
     "name": "stderr",
     "output_type": "stream",
     "text": [
      "2024-04-10 16:21:04.882563: I tensorflow/core/common_runtime/gpu/gpu_device.cc:1929] Created device /job:localhost/replica:0/task:0/device:GPU:0 with 9920 MB memory:  -> device: 0, name: NVIDIA GeForce RTX 3060, pci bus id: 0000:65:00.0, compute capability: 8.6\n"
     ]
    }
   ],
   "source": [
    "shape = tfidf_vectors.shape\n",
    "latent_dim = 32\n",
    "autoencoder = Autoencoder(latent_dim, shape)\n",
    "autoencoder.compile(optimizer='adam', loss='mse')"
   ]
  },
  {
   "cell_type": "code",
   "execution_count": 9,
   "id": "4e580a9a-ec7d-4537-b7e4-5501aefd4651",
   "metadata": {
    "scrolled": true
   },
   "outputs": [
    {
     "name": "stdout",
     "output_type": "stream",
     "text": [
      "Epoch 1/20\n"
     ]
    },
    {
     "name": "stderr",
     "output_type": "stream",
     "text": [
      "2024-04-10 16:21:06.916190: I external/local_tsl/tsl/platform/default/subprocess.cc:304] Start cannot spawn child process: No such file or directory\n",
      "2024-04-10 16:21:07.224454: I external/local_xla/xla/service/service.cc:168] XLA service 0x7332a663e240 initialized for platform CUDA (this does not guarantee that XLA will be used). Devices:\n",
      "2024-04-10 16:21:07.224480: I external/local_xla/xla/service/service.cc:176]   StreamExecutor device (0): NVIDIA GeForce RTX 3060, Compute Capability 8.6\n",
      "2024-04-10 16:21:07.229141: I tensorflow/compiler/mlir/tensorflow/utils/dump_mlir_util.cc:269] disabling MLIR crash reproducer, set env var `MLIR_CRASH_REPRODUCER_DIRECTORY` to enable.\n",
      "2024-04-10 16:21:07.243848: I external/local_xla/xla/stream_executor/cuda/cuda_dnn.cc:454] Loaded cuDNN version 8902\n",
      "WARNING: All log messages before absl::InitializeLog() is called are written to STDERR\n",
      "I0000 00:00:1712746267.334700   57398 device_compiler.h:186] Compiled cluster using XLA!  This line is logged at most once for the lifetime of the process.\n"
     ]
    },
    {
     "name": "stdout",
     "output_type": "stream",
     "text": [
      "45/45 [==============================] - 2s 2ms/step - loss: 9.2342e-04\n",
      "Epoch 2/20\n",
      "45/45 [==============================] - 0s 2ms/step - loss: 9.0358e-04\n",
      "Epoch 3/20\n",
      "45/45 [==============================] - 0s 2ms/step - loss: 8.9694e-04\n",
      "Epoch 4/20\n",
      "45/45 [==============================] - 0s 2ms/step - loss: 8.8405e-04\n",
      "Epoch 5/20\n",
      "45/45 [==============================] - 0s 2ms/step - loss: 8.6831e-04\n",
      "Epoch 6/20\n",
      "45/45 [==============================] - 0s 2ms/step - loss: 8.4799e-04\n",
      "Epoch 7/20\n",
      "45/45 [==============================] - 0s 2ms/step - loss: 8.2374e-04\n",
      "Epoch 8/20\n",
      "45/45 [==============================] - 0s 2ms/step - loss: 7.9580e-04\n",
      "Epoch 9/20\n",
      "45/45 [==============================] - 0s 2ms/step - loss: 7.6691e-04\n",
      "Epoch 10/20\n",
      "45/45 [==============================] - 0s 2ms/step - loss: 7.3844e-04\n",
      "Epoch 11/20\n",
      "45/45 [==============================] - 0s 2ms/step - loss: 7.1067e-04\n",
      "Epoch 12/20\n",
      "45/45 [==============================] - 0s 2ms/step - loss: 6.8429e-04\n",
      "Epoch 13/20\n",
      "45/45 [==============================] - 0s 2ms/step - loss: 6.6040e-04\n",
      "Epoch 14/20\n",
      "45/45 [==============================] - 0s 2ms/step - loss: 6.3883e-04\n",
      "Epoch 15/20\n",
      "45/45 [==============================] - 0s 2ms/step - loss: 6.1828e-04\n",
      "Epoch 16/20\n",
      "45/45 [==============================] - 0s 2ms/step - loss: 5.9859e-04\n",
      "Epoch 17/20\n",
      "45/45 [==============================] - 0s 2ms/step - loss: 5.8131e-04\n",
      "Epoch 18/20\n",
      "45/45 [==============================] - 0s 2ms/step - loss: 5.6550e-04\n",
      "Epoch 19/20\n",
      "45/45 [==============================] - 0s 2ms/step - loss: 5.5174e-04\n",
      "Epoch 20/20\n",
      "45/45 [==============================] - 0s 2ms/step - loss: 5.3800e-04\n"
     ]
    },
    {
     "data": {
      "text/plain": [
       "<keras.src.callbacks.History at 0x7334976ad840>"
      ]
     },
     "execution_count": 9,
     "metadata": {},
     "output_type": "execute_result"
    }
   ],
   "source": [
    "autoencoder.fit(tfidf_vectors, tfidf_vectors,\n",
    "                epochs=20,\n",
    "                batch_size=64,\n",
    "                shuffle=True)"
   ]
  },
  {
   "cell_type": "code",
   "execution_count": 10,
   "id": "8d3ed554-390a-4614-a671-ab90a0cbccea",
   "metadata": {},
   "outputs": [],
   "source": [
    "df_encoded = pd.DataFrame(autoencoder.encoder(tfidf_vectors).numpy())"
   ]
  },
  {
   "cell_type": "code",
   "execution_count": 57,
   "id": "1e4128bd-7fcc-4a75-8461-6e8ad11fe64e",
   "metadata": {},
   "outputs": [],
   "source": [
    "X, X_tt, y, y_tt = train_test_split(df_encoded, le.transform(df['Target']), train_size=0.9,  random_state=42)"
   ]
  },
  {
   "cell_type": "code",
   "execution_count": 58,
   "id": "817af3ef-c3b8-4e6e-9a69-efa714236393",
   "metadata": {},
   "outputs": [],
   "source": [
    "def optuna_objective_xgboost(trial):\n",
    "    # Create model\n",
    "    alpha = trial.suggest_float('alpha', 0.1, 2)\n",
    "    gamma=trial.suggest_float('gamma', 0.1, 0.9)\n",
    "    n_estimators = trial.suggest_int('n_estimators', 100, 500)\n",
    "    max_depth = trial.suggest_int('max_depth', 3, 8)\n",
    "    XGB_clf = XGBClassifier(objective='multi:softmax', gamma=gamma, alpha=alpha, max_depth=max_depth, enable_categorical=True)\n",
    "    skf = KFold(n_splits=8)\n",
    "    cv_scores = cross_val_score(XGB_clf, X, y, scoring='f1_macro', cv=skf, n_jobs=8)\n",
    "    return cv_scores.mean()"
   ]
  },
  {
   "cell_type": "code",
   "execution_count": 59,
   "id": "e712dd78-a900-4c07-9d02-ffbb927f0347",
   "metadata": {
    "scrolled": true
   },
   "outputs": [
    {
     "name": "stderr",
     "output_type": "stream",
     "text": [
      "[I 2024-04-10 18:08:06,187] A new study created in memory with name: no-name-2e0142ba-9f48-4f3d-88fa-0b97fed75eac\n",
      "[I 2024-04-10 18:08:41,528] Trial 2 finished with value: 0.8930176844445777 and parameters: {'alpha': 1.610949484240721, 'gamma': 0.454175653412464, 'n_estimators': 446, 'max_depth': 5}. Best is trial 2 with value: 0.8930176844445777.\n",
      "[I 2024-04-10 18:08:41,926] Trial 0 finished with value: 0.8950447303753863 and parameters: {'alpha': 1.673241857641758, 'gamma': 0.4220289551569193, 'n_estimators': 276, 'max_depth': 3}. Best is trial 0 with value: 0.8950447303753863.\n",
      "[I 2024-04-10 18:08:42,271] Trial 4 finished with value: 0.9107481019253687 and parameters: {'alpha': 0.5555032450047074, 'gamma': 0.14989193976578347, 'n_estimators': 439, 'max_depth': 3}. Best is trial 4 with value: 0.9107481019253687.\n",
      "[I 2024-04-10 18:08:42,385] Trial 3 finished with value: 0.9135873591729808 and parameters: {'alpha': 0.3860923579161115, 'gamma': 0.24406823861692148, 'n_estimators': 408, 'max_depth': 3}. Best is trial 3 with value: 0.9135873591729808.\n",
      "[I 2024-04-10 18:08:42,608] Trial 5 finished with value: 0.8888813578366612 and parameters: {'alpha': 1.7608448736456304, 'gamma': 0.4662377630554516, 'n_estimators': 336, 'max_depth': 6}. Best is trial 3 with value: 0.9135873591729808.\n",
      "[I 2024-04-10 18:08:42,784] Trial 1 finished with value: 0.9090021013084155 and parameters: {'alpha': 0.43786832386515473, 'gamma': 0.5278212318636801, 'n_estimators': 221, 'max_depth': 4}. Best is trial 3 with value: 0.9135873591729808.\n",
      "[I 2024-04-10 18:08:51,997] Trial 6 finished with value: 0.8972818993663142 and parameters: {'alpha': 1.404189754040998, 'gamma': 0.2101002043653895, 'n_estimators': 335, 'max_depth': 7}. Best is trial 3 with value: 0.9135873591729808.\n",
      "[I 2024-04-10 18:09:00,766] Trial 7 finished with value: 0.9070482718557963 and parameters: {'alpha': 0.3192189091580795, 'gamma': 0.21688219080474858, 'n_estimators': 448, 'max_depth': 5}. Best is trial 3 with value: 0.9135873591729808.\n",
      "[I 2024-04-10 18:09:07,929] Trial 8 finished with value: 0.9029588823775299 and parameters: {'alpha': 0.2881562858283359, 'gamma': 0.6960602101643841, 'n_estimators': 109, 'max_depth': 6}. Best is trial 3 with value: 0.9135873591729808.\n",
      "[I 2024-04-10 18:09:15,593] Trial 9 finished with value: 0.9087478105516087 and parameters: {'alpha': 1.2383215044715898, 'gamma': 0.13981909490204983, 'n_estimators': 277, 'max_depth': 4}. Best is trial 3 with value: 0.9135873591729808.\n",
      "[I 2024-04-10 18:09:21,247] Trial 10 finished with value: 0.9085392549765536 and parameters: {'alpha': 0.3027464770866871, 'gamma': 0.8471753896347359, 'n_estimators': 321, 'max_depth': 3}. Best is trial 3 with value: 0.9135873591729808.\n",
      "[I 2024-04-10 18:09:27,886] Trial 11 finished with value: 0.8929893803734026 and parameters: {'alpha': 1.2861509126631534, 'gamma': 0.6508626156446944, 'n_estimators': 476, 'max_depth': 7}. Best is trial 3 with value: 0.9135873591729808.\n",
      "[I 2024-04-10 18:09:34,480] Trial 12 finished with value: 0.8955918987211042 and parameters: {'alpha': 0.29900927539621686, 'gamma': 0.8133039693762399, 'n_estimators': 107, 'max_depth': 8}. Best is trial 3 with value: 0.9135873591729808.\n",
      "/home/hemanth/.local/lib/python3.10/site-packages/joblib/externals/loky/process_executor.py:752: UserWarning: A worker stopped while some jobs were given to the executor. This can be caused by a too short worker timeout or by a memory leak.\n",
      "  warnings.warn(\n",
      "[I 2024-04-10 18:09:41,154] Trial 13 finished with value: 0.8906355994961094 and parameters: {'alpha': 1.8152338481080046, 'gamma': 0.3493128270580881, 'n_estimators': 392, 'max_depth': 6}. Best is trial 3 with value: 0.9135873591729808.\n",
      "[I 2024-04-10 18:09:48,728] Trial 14 finished with value: 0.8717608949983553 and parameters: {'alpha': 1.7555040940363364, 'gamma': 0.820164510591075, 'n_estimators': 250, 'max_depth': 3}. Best is trial 3 with value: 0.9135873591729808.\n",
      "[I 2024-04-10 18:09:54,238] Trial 15 finished with value: 0.8924034733445011 and parameters: {'alpha': 0.8111002234106361, 'gamma': 0.8259917744464618, 'n_estimators': 499, 'max_depth': 8}. Best is trial 3 with value: 0.9135873591729808.\n",
      "[I 2024-04-10 18:09:59,248] Trial 16 finished with value: 0.9059882375323844 and parameters: {'alpha': 0.7533037924594312, 'gamma': 0.12211788628485505, 'n_estimators': 495, 'max_depth': 3}. Best is trial 3 with value: 0.9135873591729808.\n",
      "[I 2024-04-10 18:10:04,748] Trial 17 finished with value: 0.9035862145681005 and parameters: {'alpha': 0.6910758606733146, 'gamma': 0.2922938655757796, 'n_estimators': 387, 'max_depth': 3}. Best is trial 3 with value: 0.9135873591729808.\n",
      "[I 2024-04-10 18:10:09,999] Trial 18 finished with value: 0.8997796747737695 and parameters: {'alpha': 0.7005352912262962, 'gamma': 0.30432365449939675, 'n_estimators': 393, 'max_depth': 3}. Best is trial 3 with value: 0.9135873591729808.\n",
      "[I 2024-04-10 18:10:16,071] Trial 19 finished with value: 0.9050397545189265 and parameters: {'alpha': 0.7480683426267095, 'gamma': 0.1081722049240535, 'n_estimators': 413, 'max_depth': 3}. Best is trial 3 with value: 0.9135873591729808.\n",
      "[I 2024-04-10 18:10:24,020] Trial 20 finished with value: 0.9038369443768609 and parameters: {'alpha': 0.7185544454872622, 'gamma': 0.1304506333995477, 'n_estimators': 397, 'max_depth': 4}. Best is trial 3 with value: 0.9135873591729808.\n",
      "[I 2024-04-10 18:10:31,845] Trial 21 finished with value: 0.9086273235684351 and parameters: {'alpha': 0.6153881572660787, 'gamma': 0.12589764065495687, 'n_estimators': 389, 'max_depth': 4}. Best is trial 3 with value: 0.9135873591729808.\n",
      "[I 2024-04-10 18:10:39,006] Trial 22 finished with value: 0.9139547958213479 and parameters: {'alpha': 0.12448832189479925, 'gamma': 0.2927709806377722, 'n_estimators': 389, 'max_depth': 4}. Best is trial 22 with value: 0.9139547958213479.\n",
      "[I 2024-04-10 18:10:46,487] Trial 23 finished with value: 0.9154487740080811 and parameters: {'alpha': 0.12636021805280295, 'gamma': 0.10619969093244841, 'n_estimators': 383, 'max_depth': 4}. Best is trial 23 with value: 0.9154487740080811.\n",
      "[I 2024-04-10 18:10:53,825] Trial 24 finished with value: 0.909367199051268 and parameters: {'alpha': 0.1653064109537603, 'gamma': 0.1996378174973381, 'n_estimators': 421, 'max_depth': 4}. Best is trial 23 with value: 0.9154487740080811.\n",
      "[I 2024-04-10 18:11:00,698] Trial 25 finished with value: 0.9093991919449194 and parameters: {'alpha': 0.1184872645901402, 'gamma': 0.2028363971617147, 'n_estimators': 364, 'max_depth': 4}. Best is trial 23 with value: 0.9154487740080811.\n",
      "[I 2024-04-10 18:11:07,703] Trial 26 finished with value: 0.904884480723963 and parameters: {'alpha': 0.4868233927317598, 'gamma': 0.377877642775792, 'n_estimators': 204, 'max_depth': 4}. Best is trial 23 with value: 0.9154487740080811.\n",
      "[I 2024-04-10 18:11:12,803] Trial 27 finished with value: 0.9070070837092643 and parameters: {'alpha': 0.4641943302895608, 'gamma': 0.5524586444644306, 'n_estimators': 182, 'max_depth': 4}. Best is trial 23 with value: 0.9154487740080811.\n",
      "[I 2024-04-10 18:11:20,300] Trial 28 finished with value: 0.9135372750293927 and parameters: {'alpha': 0.10017630622428886, 'gamma': 0.2243444644556581, 'n_estimators': 441, 'max_depth': 4}. Best is trial 23 with value: 0.9154487740080811.\n",
      "[I 2024-04-10 18:11:28,759] Trial 29 finished with value: 0.9120154903859804 and parameters: {'alpha': 0.14692236612877824, 'gamma': 0.22476906179216316, 'n_estimators': 337, 'max_depth': 5}. Best is trial 23 with value: 0.9154487740080811.\n",
      "[I 2024-04-10 18:11:37,224] Trial 30 finished with value: 0.9073027219246245 and parameters: {'alpha': 0.16052872167934507, 'gamma': 0.2528914503011951, 'n_estimators': 184, 'max_depth': 5}. Best is trial 23 with value: 0.9154487740080811.\n",
      "[I 2024-04-10 18:11:45,529] Trial 31 finished with value: 0.9043799718490892 and parameters: {'alpha': 0.11442968337277358, 'gamma': 0.264865905253136, 'n_estimators': 355, 'max_depth': 5}. Best is trial 23 with value: 0.9154487740080811.\n",
      "[I 2024-04-10 18:11:53,144] Trial 32 finished with value: 0.9048039502781089 and parameters: {'alpha': 0.10166636592063996, 'gamma': 0.2670663916570788, 'n_estimators': 359, 'max_depth': 5}. Best is trial 23 with value: 0.9154487740080811.\n",
      "[I 2024-04-10 18:12:01,215] Trial 33 finished with value: 0.9088211425308285 and parameters: {'alpha': 0.11986733560008002, 'gamma': 0.2533594576038075, 'n_estimators': 361, 'max_depth': 5}. Best is trial 23 with value: 0.9154487740080811.\n",
      "[I 2024-04-10 18:12:08,880] Trial 34 finished with value: 0.9080548313086008 and parameters: {'alpha': 0.9097871266790458, 'gamma': 0.28216887980035993, 'n_estimators': 350, 'max_depth': 5}. Best is trial 23 with value: 0.9154487740080811.\n",
      "[I 2024-04-10 18:12:16,827] Trial 35 finished with value: 0.9085450099684842 and parameters: {'alpha': 0.38135097892040415, 'gamma': 0.28335613931445924, 'n_estimators': 356, 'max_depth': 5}. Best is trial 23 with value: 0.9154487740080811.\n",
      "[I 2024-04-10 18:12:24,812] Trial 36 finished with value: 0.9077260806705161 and parameters: {'alpha': 0.1295224807953414, 'gamma': 0.2883784717810411, 'n_estimators': 355, 'max_depth': 5}. Best is trial 23 with value: 0.9154487740080811.\n",
      "[I 2024-04-10 18:12:31,770] Trial 37 finished with value: 0.9092408953086473 and parameters: {'alpha': 0.39489278337703765, 'gamma': 0.32798603733347576, 'n_estimators': 467, 'max_depth': 4}. Best is trial 23 with value: 0.9154487740080811.\n",
      "[I 2024-04-10 18:12:38,678] Trial 38 finished with value: 0.9093640136726902 and parameters: {'alpha': 0.35713230518110306, 'gamma': 0.33984350360293847, 'n_estimators': 458, 'max_depth': 4}. Best is trial 23 with value: 0.9154487740080811.\n",
      "[I 2024-04-10 18:12:46,355] Trial 39 finished with value: 0.913986771196071 and parameters: {'alpha': 0.4081692376765243, 'gamma': 0.17528594583734625, 'n_estimators': 460, 'max_depth': 4}. Best is trial 23 with value: 0.9154487740080811.\n",
      "[I 2024-04-10 18:12:53,533] Trial 40 finished with value: 0.9103274751168858 and parameters: {'alpha': 0.3928220303122111, 'gamma': 0.1723311478238373, 'n_estimators': 461, 'max_depth': 4}. Best is trial 23 with value: 0.9154487740080811.\n",
      "[I 2024-04-10 18:13:01,112] Trial 41 finished with value: 0.9123210970054895 and parameters: {'alpha': 0.23421595518694416, 'gamma': 0.1773419159819325, 'n_estimators': 456, 'max_depth': 4}. Best is trial 23 with value: 0.9154487740080811.\n",
      "[I 2024-04-10 18:13:09,046] Trial 42 finished with value: 0.9105147046149993 and parameters: {'alpha': 0.24752636341313355, 'gamma': 0.1758218770257861, 'n_estimators': 462, 'max_depth': 4}. Best is trial 23 with value: 0.9154487740080811.\n",
      "[I 2024-04-10 18:13:15,029] Trial 43 finished with value: 0.9154305415945024 and parameters: {'alpha': 0.2538791224979343, 'gamma': 0.3913517279340637, 'n_estimators': 432, 'max_depth': 4}. Best is trial 23 with value: 0.9154487740080811.\n",
      "[I 2024-04-10 18:13:20,280] Trial 44 finished with value: 0.9036326055502047 and parameters: {'alpha': 0.26235604256081774, 'gamma': 0.1745746553240406, 'n_estimators': 426, 'max_depth': 3}. Best is trial 23 with value: 0.9154487740080811.\n",
      "[I 2024-04-10 18:13:25,582] Trial 45 finished with value: 0.9050365115234945 and parameters: {'alpha': 0.49722717502342084, 'gamma': 0.17346033802601665, 'n_estimators': 295, 'max_depth': 3}. Best is trial 23 with value: 0.9154487740080811.\n",
      "[I 2024-04-10 18:13:30,836] Trial 46 finished with value: 0.9097714207491157 and parameters: {'alpha': 0.22408572000964247, 'gamma': 0.1669379584810963, 'n_estimators': 424, 'max_depth': 3}. Best is trial 23 with value: 0.9154487740080811.\n",
      "[I 2024-04-10 18:13:36,068] Trial 47 finished with value: 0.911177456220021 and parameters: {'alpha': 0.24509230346038058, 'gamma': 0.1595225683700278, 'n_estimators': 435, 'max_depth': 3}. Best is trial 23 with value: 0.9154487740080811.\n",
      "[I 2024-04-10 18:13:41,398] Trial 48 finished with value: 0.9074551402763753 and parameters: {'alpha': 0.523708350903438, 'gamma': 0.16537776351967892, 'n_estimators': 433, 'max_depth': 3}. Best is trial 23 with value: 0.9154487740080811.\n",
      "[I 2024-04-10 18:13:44,865] Trial 49 finished with value: 0.9095539993241334 and parameters: {'alpha': 0.4883032250274792, 'gamma': 0.3939954757466926, 'n_estimators': 305, 'max_depth': 3}. Best is trial 23 with value: 0.9154487740080811.\n"
     ]
    }
   ],
   "source": [
    "study = optuna.create_study(direction='maximize')\n",
    "study.optimize(optuna_objective_xgboost, n_trials=50, n_jobs=6)"
   ]
  },
  {
   "cell_type": "code",
   "execution_count": 60,
   "id": "7e498211-06d0-4339-be7e-2e7d1b52455b",
   "metadata": {},
   "outputs": [],
   "source": [
    "XGB_clf = XGBClassifier(objective='multi:softmax', enable_categorical=True, **study.best_params)"
   ]
  },
  {
   "cell_type": "code",
   "execution_count": 61,
   "id": "a9ab65c4-73d4-4d64-bf9a-d04884fb5ad4",
   "metadata": {},
   "outputs": [
    {
     "data": {
      "text/html": [
       "<style>#sk-container-id-4 {color: black;}#sk-container-id-4 pre{padding: 0;}#sk-container-id-4 div.sk-toggleable {background-color: white;}#sk-container-id-4 label.sk-toggleable__label {cursor: pointer;display: block;width: 100%;margin-bottom: 0;padding: 0.3em;box-sizing: border-box;text-align: center;}#sk-container-id-4 label.sk-toggleable__label-arrow:before {content: \"▸\";float: left;margin-right: 0.25em;color: #696969;}#sk-container-id-4 label.sk-toggleable__label-arrow:hover:before {color: black;}#sk-container-id-4 div.sk-estimator:hover label.sk-toggleable__label-arrow:before {color: black;}#sk-container-id-4 div.sk-toggleable__content {max-height: 0;max-width: 0;overflow: hidden;text-align: left;background-color: #f0f8ff;}#sk-container-id-4 div.sk-toggleable__content pre {margin: 0.2em;color: black;border-radius: 0.25em;background-color: #f0f8ff;}#sk-container-id-4 input.sk-toggleable__control:checked~div.sk-toggleable__content {max-height: 200px;max-width: 100%;overflow: auto;}#sk-container-id-4 input.sk-toggleable__control:checked~label.sk-toggleable__label-arrow:before {content: \"▾\";}#sk-container-id-4 div.sk-estimator input.sk-toggleable__control:checked~label.sk-toggleable__label {background-color: #d4ebff;}#sk-container-id-4 div.sk-label input.sk-toggleable__control:checked~label.sk-toggleable__label {background-color: #d4ebff;}#sk-container-id-4 input.sk-hidden--visually {border: 0;clip: rect(1px 1px 1px 1px);clip: rect(1px, 1px, 1px, 1px);height: 1px;margin: -1px;overflow: hidden;padding: 0;position: absolute;width: 1px;}#sk-container-id-4 div.sk-estimator {font-family: monospace;background-color: #f0f8ff;border: 1px dotted black;border-radius: 0.25em;box-sizing: border-box;margin-bottom: 0.5em;}#sk-container-id-4 div.sk-estimator:hover {background-color: #d4ebff;}#sk-container-id-4 div.sk-parallel-item::after {content: \"\";width: 100%;border-bottom: 1px solid gray;flex-grow: 1;}#sk-container-id-4 div.sk-label:hover label.sk-toggleable__label {background-color: #d4ebff;}#sk-container-id-4 div.sk-serial::before {content: \"\";position: absolute;border-left: 1px solid gray;box-sizing: border-box;top: 0;bottom: 0;left: 50%;z-index: 0;}#sk-container-id-4 div.sk-serial {display: flex;flex-direction: column;align-items: center;background-color: white;padding-right: 0.2em;padding-left: 0.2em;position: relative;}#sk-container-id-4 div.sk-item {position: relative;z-index: 1;}#sk-container-id-4 div.sk-parallel {display: flex;align-items: stretch;justify-content: center;background-color: white;position: relative;}#sk-container-id-4 div.sk-item::before, #sk-container-id-4 div.sk-parallel-item::before {content: \"\";position: absolute;border-left: 1px solid gray;box-sizing: border-box;top: 0;bottom: 0;left: 50%;z-index: -1;}#sk-container-id-4 div.sk-parallel-item {display: flex;flex-direction: column;z-index: 1;position: relative;background-color: white;}#sk-container-id-4 div.sk-parallel-item:first-child::after {align-self: flex-end;width: 50%;}#sk-container-id-4 div.sk-parallel-item:last-child::after {align-self: flex-start;width: 50%;}#sk-container-id-4 div.sk-parallel-item:only-child::after {width: 0;}#sk-container-id-4 div.sk-dashed-wrapped {border: 1px dashed gray;margin: 0 0.4em 0.5em 0.4em;box-sizing: border-box;padding-bottom: 0.4em;background-color: white;}#sk-container-id-4 div.sk-label label {font-family: monospace;font-weight: bold;display: inline-block;line-height: 1.2em;}#sk-container-id-4 div.sk-label-container {text-align: center;}#sk-container-id-4 div.sk-container {/* jupyter's `normalize.less` sets `[hidden] { display: none; }` but bootstrap.min.css set `[hidden] { display: none !important; }` so we also need the `!important` here to be able to override the default hidden behavior on the sphinx rendered scikit-learn.org. See: https://github.com/scikit-learn/scikit-learn/issues/21755 */display: inline-block !important;position: relative;}#sk-container-id-4 div.sk-text-repr-fallback {display: none;}</style><div id=\"sk-container-id-4\" class=\"sk-top-container\"><div class=\"sk-text-repr-fallback\"><pre>XGBClassifier(alpha=0.12636021805280295, base_score=None, booster=None,\n",
       "              callbacks=None, colsample_bylevel=None, colsample_bynode=None,\n",
       "              colsample_bytree=None, device=None, early_stopping_rounds=None,\n",
       "              enable_categorical=True, eval_metric=None, feature_types=None,\n",
       "              gamma=0.10619969093244841, grow_policy=None, importance_type=None,\n",
       "              interaction_constraints=None, learning_rate=None, max_bin=None,\n",
       "              max_cat_threshold=None, max_cat_to_onehot=None,\n",
       "              max_delta_step=None, max_depth=4, max_leaves=None,\n",
       "              min_child_weight=None, missing=nan, monotone_constraints=None,\n",
       "              multi_strategy=None, n_estimators=383, n_jobs=None,\n",
       "              num_parallel_tree=None, ...)</pre><b>In a Jupyter environment, please rerun this cell to show the HTML representation or trust the notebook. <br />On GitHub, the HTML representation is unable to render, please try loading this page with nbviewer.org.</b></div><div class=\"sk-container\" hidden><div class=\"sk-item\"><div class=\"sk-estimator sk-toggleable\"><input class=\"sk-toggleable__control sk-hidden--visually\" id=\"sk-estimator-id-4\" type=\"checkbox\" checked><label for=\"sk-estimator-id-4\" class=\"sk-toggleable__label sk-toggleable__label-arrow\">XGBClassifier</label><div class=\"sk-toggleable__content\"><pre>XGBClassifier(alpha=0.12636021805280295, base_score=None, booster=None,\n",
       "              callbacks=None, colsample_bylevel=None, colsample_bynode=None,\n",
       "              colsample_bytree=None, device=None, early_stopping_rounds=None,\n",
       "              enable_categorical=True, eval_metric=None, feature_types=None,\n",
       "              gamma=0.10619969093244841, grow_policy=None, importance_type=None,\n",
       "              interaction_constraints=None, learning_rate=None, max_bin=None,\n",
       "              max_cat_threshold=None, max_cat_to_onehot=None,\n",
       "              max_delta_step=None, max_depth=4, max_leaves=None,\n",
       "              min_child_weight=None, missing=nan, monotone_constraints=None,\n",
       "              multi_strategy=None, n_estimators=383, n_jobs=None,\n",
       "              num_parallel_tree=None, ...)</pre></div></div></div></div></div>"
      ],
      "text/plain": [
       "XGBClassifier(alpha=0.12636021805280295, base_score=None, booster=None,\n",
       "              callbacks=None, colsample_bylevel=None, colsample_bynode=None,\n",
       "              colsample_bytree=None, device=None, early_stopping_rounds=None,\n",
       "              enable_categorical=True, eval_metric=None, feature_types=None,\n",
       "              gamma=0.10619969093244841, grow_policy=None, importance_type=None,\n",
       "              interaction_constraints=None, learning_rate=None, max_bin=None,\n",
       "              max_cat_threshold=None, max_cat_to_onehot=None,\n",
       "              max_delta_step=None, max_depth=4, max_leaves=None,\n",
       "              min_child_weight=None, missing=nan, monotone_constraints=None,\n",
       "              multi_strategy=None, n_estimators=383, n_jobs=None,\n",
       "              num_parallel_tree=None, ...)"
      ]
     },
     "execution_count": 61,
     "metadata": {},
     "output_type": "execute_result"
    }
   ],
   "source": [
    "XGB_clf.fit(X, y)"
   ]
  },
  {
   "cell_type": "code",
   "execution_count": 62,
   "id": "3e89d351-9c07-4dbd-a21f-48f224d6ae7a",
   "metadata": {},
   "outputs": [
    {
     "name": "stdout",
     "output_type": "stream",
     "text": [
      "Accuracy Score predict:  0.9588447518226306\n"
     ]
    }
   ],
   "source": [
    "y_pred = XGB_clf.predict(X_tt)\n",
    "print('Accuracy Score predict: ', f1_score(y_tt, y_pred, average='macro'))"
   ]
  },
  {
   "cell_type": "code",
   "execution_count": 63,
   "id": "1317200d-20ef-45b6-838c-9a5001a292de",
   "metadata": {},
   "outputs": [
    {
     "name": "stdout",
     "output_type": "stream",
     "text": [
      "              precision    recall  f1-score   support\n",
      "\n",
      "           0       0.97      1.00      0.99        67\n",
      "           1       0.97      0.97      0.97        76\n",
      "           2       0.94      0.92      0.93        78\n",
      "           3       0.95      0.94      0.95        67\n",
      "\n",
      "    accuracy                           0.96       288\n",
      "   macro avg       0.96      0.96      0.96       288\n",
      "weighted avg       0.96      0.96      0.96       288\n",
      "\n"
     ]
    }
   ],
   "source": [
    "print(classification_report(y_tt, y_pred))"
   ]
  },
  {
   "cell_type": "code",
   "execution_count": 18,
   "id": "a2ecc732-63d7-4ea0-bfdd-0b0abe1b354b",
   "metadata": {},
   "outputs": [],
   "source": [
    "save_models(le, vectorizer, autoencoder, XGB_clf)"
   ]
  },
  {
   "cell_type": "markdown",
   "id": "45220708-1a1b-4947-bbd5-b9c386405e30",
   "metadata": {},
   "source": [
    "## Test model with unseen data and custom reviews"
   ]
  },
  {
   "cell_type": "code",
   "execution_count": 3,
   "id": "0a996a7f-421d-4598-9d64-ef7eaed03891",
   "metadata": {},
   "outputs": [
    {
     "name": "stderr",
     "output_type": "stream",
     "text": [
      "2024-04-10 20:02:15.722167: I tensorflow/core/common_runtime/gpu/gpu_device.cc:1929] Created device /job:localhost/replica:0/task:0/device:GPU:0 with 1038 MB memory:  -> device: 0, name: NVIDIA GeForce RTX 3060, pci bus id: 0000:65:00.0, compute capability: 8.6\n"
     ]
    }
   ],
   "source": [
    "l_le, l_vectorizer, l_autoencoder, l_XGB_clf = load_models()"
   ]
  },
  {
   "cell_type": "code",
   "execution_count": 4,
   "id": "61a0c97f-60db-48ce-9dc2-b859dae34ef8",
   "metadata": {},
   "outputs": [
    {
     "name": "stderr",
     "output_type": "stream",
     "text": [
      "2024-04-10 20:02:18.764874: I external/local_tsl/tsl/platform/default/subprocess.cc:304] Start cannot spawn child process: No such file or directory\n"
     ]
    }
   ],
   "source": [
    "hh = l_vectorizer.transform(df_final_test['Review'].apply(preprocess_text)).toarray()\n",
    "t_df_encoded = pd.DataFrame(l_autoencoder.encoder(hh).numpy())\n",
    "t_pred = l_XGB_clf.predict(t_df_encoded)"
   ]
  },
  {
   "cell_type": "code",
   "execution_count": 5,
   "id": "405c9552-7e5e-4231-9b61-11e629e8a826",
   "metadata": {},
   "outputs": [
    {
     "data": {
      "text/plain": [
       "0.96875"
      ]
     },
     "execution_count": 5,
     "metadata": {},
     "output_type": "execute_result"
    }
   ],
   "source": [
    "f1_score(l_le.transform(df_final_test['Target']), t_pred, average='macro')"
   ]
  },
  {
   "cell_type": "code",
   "execution_count": 7,
   "id": "04ebdb16-df68-4a0e-a012-2ee031131d48",
   "metadata": {},
   "outputs": [],
   "source": [
    "def predict_for_custom_review(text):\n",
    "    ff = preprocess_text(text)\n",
    "    hh = l_vectorizer.transform([ff]).toarray()\n",
    "    df_encoded = pd.DataFrame(l_autoencoder.encoder(hh).numpy())\n",
    "    y_pred = l_XGB_clf.predict(df_encoded)\n",
    "    return l_le.inverse_transform(y_pred)[0]"
   ]
  },
  {
   "cell_type": "code",
   "execution_count": 25,
   "id": "3dda3eb1-b7f2-48e2-beda-1956aaae509e",
   "metadata": {},
   "outputs": [],
   "source": [
    "text = \"\"\"I will say the hotel was nice and the staff was friendly. The reason for my review is hidden fees. I thought I had paid for my hotel fully through booking online. Two days later I saw an additional charge on my credit card. It was for a “destination fee”. I was not informed of this ahead of time and find this to be dishonest.\"\"\""
   ]
  },
  {
   "cell_type": "code",
   "execution_count": 26,
   "id": "12722b51-cd8c-4a14-84fc-e591a327db0d",
   "metadata": {},
   "outputs": [
    {
     "data": {
      "text/plain": [
       "'True Negative'"
      ]
     },
     "execution_count": 26,
     "metadata": {},
     "output_type": "execute_result"
    }
   ],
   "source": [
    "predict_for_custom_review(text)"
   ]
  },
  {
   "cell_type": "code",
   "execution_count": 9,
   "id": "51d49cb0-e4c6-4151-ad5f-ed442d54ff41",
   "metadata": {},
   "outputs": [
    {
     "name": "stdout",
     "output_type": "stream",
     "text": [
      "Running on local URL:  http://127.0.0.1:7860\n",
      "\n",
      "To create a public link, set `share=True` in `launch()`.\n"
     ]
    },
    {
     "data": {
      "text/html": [
       "<div><iframe src=\"http://127.0.0.1:7860/\" width=\"100%\" height=\"500\" allow=\"autoplay; camera; microphone; clipboard-read; clipboard-write;\" frameborder=\"0\" allowfullscreen></iframe></div>"
      ],
      "text/plain": [
       "<IPython.core.display.HTML object>"
      ]
     },
     "metadata": {},
     "output_type": "display_data"
    }
   ],
   "source": [
    "import gradio as gr\n",
    "interface = gr.Interface(fn=predict_for_custom_review, \n",
    "                         inputs='text', \n",
    "                         outputs=\"label\", \n",
    "                         title=\"Fake Review Detector\")\n",
    "if __name__ == \"__main__\":\n",
    "    interface.launch()"
   ]
  },
  {
   "cell_type": "code",
   "execution_count": null,
   "id": "1f6c59d6-0f32-47d7-8002-70e59595d930",
   "metadata": {},
   "outputs": [],
   "source": []
  }
 ],
 "metadata": {
  "kernelspec": {
   "display_name": "Python 3 (ipykernel)",
   "language": "python",
   "name": "python3"
  },
  "language_info": {
   "codemirror_mode": {
    "name": "ipython",
    "version": 3
   },
   "file_extension": ".py",
   "mimetype": "text/x-python",
   "name": "python",
   "nbconvert_exporter": "python",
   "pygments_lexer": "ipython3",
   "version": "3.10.12"
  }
 },
 "nbformat": 4,
 "nbformat_minor": 5
}
